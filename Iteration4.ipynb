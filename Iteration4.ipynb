{
 "cells": [
  {
   "cell_type": "code",
   "execution_count": 2,
   "metadata": {},
   "outputs": [],
   "source": [
    "import findspark\n",
    "findspark.init('/home/ubuntu/spark-2.1.1-bin-hadoop2.7')\n",
    "import pyspark\n",
    "from pyspark.sql import SparkSession\n",
    "spark = SparkSession.builder.appName('basics').getOrCreate()\n",
    "\n",
    "import seaborn as sn\n",
    "import yellowbrick"
   ]
  },
  {
   "cell_type": "markdown",
   "metadata": {},
   "source": [
    "### Data Import and Exploration\n",
    "    import types from pyspark.sql.type:\n",
    "    StructField('col', DataType, nullable=True)\n",
    "    StructType(fields=StructField)\n",
    "    spark.read.format('file', schema=StructType)\n",
    "    spark.read.format(): import data (inferSchema=True) only for csv\n",
    "    df.show(): visualise data frame\n",
    "    df.columns(): check columns\n",
    "    df.count(): check number of rows\n",
    "    df.describe(['col']).show(): summary of col\n",
    "    df.printSchema(): check data type"
   ]
  },
  {
   "cell_type": "code",
   "execution_count": 80,
   "metadata": {},
   "outputs": [],
   "source": [
    "# import without schema\n",
    "df = spark.read.csv('dataset.csv', header=True)"
   ]
  },
  {
   "cell_type": "code",
   "execution_count": 212,
   "metadata": {},
   "outputs": [],
   "source": [
    "from pyspark.sql.types import (StructField, StructType,\n",
    "                               TimestampType, IntegerType, FloatType)\n",
    "# define data schema (or use inferSchema =True when loading dataframe)\n",
    "data_schema = [StructField('instant', IntegerType(), True),\n",
    "               StructField('dteday', TimestampType(), True),\n",
    "               StructField('season', IntegerType(), True),\n",
    "               StructField('yr', IntegerType(), True),\n",
    "               StructField('mnth', IntegerType(), True),\n",
    "               StructField('hr', IntegerType(), True),\n",
    "               StructField('holiday', IntegerType(), True),\n",
    "               StructField('weekday', IntegerType(), True),\n",
    "               StructField('workingday', IntegerType(), True),\n",
    "               StructField('weathersit', IntegerType(), True),\n",
    "               StructField('temp', FloatType(), True),\n",
    "               StructField('atemp', FloatType(), True),\n",
    "               StructField('hum', FloatType(), True),\n",
    "               StructField('windspeed', FloatType(), True),\n",
    "               StructField('casual', IntegerType(), True),\n",
    "               StructField('registered', IntegerType(), True),\n",
    "               StructField('cnt', IntegerType(), True)]\n",
    "\n",
    "final_struct = StructType(fields = data_schema)\n",
    "#import with self-defined schema\n",
    "df = spark.read.csv('dataset.csv', schema=final_struct, header=True)"
   ]
  },
  {
   "cell_type": "code",
   "execution_count": 268,
   "metadata": {},
   "outputs": [],
   "source": [
    "# import with inferred schema automatically, only for csv\n",
    "df = spark.read.csv('dataset.csv', header=True, inferSchema=True)"
   ]
  },
  {
   "cell_type": "code",
   "execution_count": 172,
   "metadata": {
    "collapsed": true
   },
   "outputs": [
    {
     "name": "stdout",
     "output_type": "stream",
     "text": [
      "+-------+--------+------+---+----+---+-------+-------+----------+----------+----+------+----+---------+------+----------+---+\n",
      "|instant|  dteday|season| yr|mnth| hr|holiday|weekday|workingday|weathersit|temp| atemp| hum|windspeed|casual|registered|cnt|\n",
      "+-------+--------+------+---+----+---+-------+-------+----------+----------+----+------+----+---------+------+----------+---+\n",
      "|   null|2011/1/1|     1|  0|   1|  0|      0|      6|         0|         1|0.24|0.2879|0.81|      0.0|     3|        13| 16|\n",
      "|      2|2011/1/1|     1|  0|   1|  1|      0|      6|         0|         1|0.22|  null| 0.8|      0.0|     8|        32| 40|\n",
      "|      3|2011/1/1|     1|  0|   1|  2|      0|      6|         0|         1|0.22|0.2727|null|      0.0|     5|        27| 32|\n",
      "+-------+--------+------+---+----+---+-------+-------+----------+----------+----+------+----+---------+------+----------+---+\n",
      "only showing top 3 rows\n",
      "\n"
     ]
    },
    {
     "data": {
      "text/plain": [
       "[Row(instant=None, dteday='2011/1/1', season=1, yr=0, mnth=1, hr=0, holiday=0, weekday=6, workingday=0, weathersit=1, temp=0.24, atemp=0.2879, hum=0.81, windspeed=0.0, casual=3, registered=13, cnt=16)]"
      ]
     },
     "execution_count": 172,
     "metadata": {},
     "output_type": "execute_result"
    }
   ],
   "source": [
    "df.show(3)\n",
    "df.head(1)"
   ]
  },
  {
   "cell_type": "code",
   "execution_count": 170,
   "metadata": {
    "collapsed": true
   },
   "outputs": [
    {
     "data": {
      "text/plain": [
       "17379"
      ]
     },
     "execution_count": 170,
     "metadata": {},
     "output_type": "execute_result"
    }
   ],
   "source": [
    "df.count()"
   ]
  },
  {
   "cell_type": "code",
   "execution_count": 169,
   "metadata": {
    "collapsed": true
   },
   "outputs": [
    {
     "data": {
      "text/plain": [
       "['instant',\n",
       " 'dteday',\n",
       " 'season',\n",
       " 'yr',\n",
       " 'mnth',\n",
       " 'hr',\n",
       " 'holiday',\n",
       " 'weekday',\n",
       " 'workingday',\n",
       " 'weathersit',\n",
       " 'temp',\n",
       " 'atemp',\n",
       " 'hum',\n",
       " 'windspeed',\n",
       " 'casual',\n",
       " 'registered',\n",
       " 'cnt']"
      ]
     },
     "execution_count": 169,
     "metadata": {},
     "output_type": "execute_result"
    }
   ],
   "source": [
    "df.columns"
   ]
  },
  {
   "cell_type": "code",
   "execution_count": 44,
   "metadata": {
    "collapsed": true
   },
   "outputs": [
    {
     "name": "stdout",
     "output_type": "stream",
     "text": [
      "+-------+-----------------+-------------------+-------------------+-------------------+-------------------+------------------+\n",
      "|summary|          instant|               temp|              atemp|                hum|          windspeed|               cnt|\n",
      "+-------+-----------------+-------------------+-------------------+-------------------+-------------------+------------------+\n",
      "|  count|            13411|              16879|              16655|              16664|              17379|             17379|\n",
      "|   mean|8742.028782342853|0.49789324210464186|0.47718728662814347| 0.6233845399098004|0.19009760539747023|189.46308763450142|\n",
      "| stddev|5057.902777166932| 0.1919856962831364|0.17226178912704154|0.19323537228920643|0.12234022926320468| 181.3875990918646|\n",
      "|    min|                2|               0.02|                0.0|                0.0|                0.0|                 1|\n",
      "|    max|            17379|                1.0|                1.0|                1.0|             0.8507|               977|\n",
      "+-------+-----------------+-------------------+-------------------+-------------------+-------------------+------------------+\n",
      "\n"
     ]
    }
   ],
   "source": [
    "# data summary\n",
    "df.describe(['instant', 'temp', 'atemp', 'hum', 'windspeed', 'cnt']).show()"
   ]
  },
  {
   "cell_type": "code",
   "execution_count": 213,
   "metadata": {
    "collapsed": true
   },
   "outputs": [
    {
     "name": "stdout",
     "output_type": "stream",
     "text": [
      "root\n",
      " |-- instant: integer (nullable = true)\n",
      " |-- dteday: timestamp (nullable = true)\n",
      " |-- season: integer (nullable = true)\n",
      " |-- yr: integer (nullable = true)\n",
      " |-- mnth: integer (nullable = true)\n",
      " |-- hr: integer (nullable = true)\n",
      " |-- holiday: integer (nullable = true)\n",
      " |-- weekday: integer (nullable = true)\n",
      " |-- workingday: integer (nullable = true)\n",
      " |-- weathersit: integer (nullable = true)\n",
      " |-- temp: float (nullable = true)\n",
      " |-- atemp: float (nullable = true)\n",
      " |-- hum: float (nullable = true)\n",
      " |-- windspeed: float (nullable = true)\n",
      " |-- casual: integer (nullable = true)\n",
      " |-- registered: integer (nullable = true)\n",
      " |-- cnt: integer (nullable = true)\n",
      "\n"
     ]
    },
    {
     "data": {
      "text/plain": [
       "[('instant', 'int'),\n",
       " ('dteday', 'timestamp'),\n",
       " ('season', 'int'),\n",
       " ('yr', 'int'),\n",
       " ('mnth', 'int'),\n",
       " ('hr', 'int'),\n",
       " ('holiday', 'int'),\n",
       " ('weekday', 'int'),\n",
       " ('workingday', 'int'),\n",
       " ('weathersit', 'int'),\n",
       " ('temp', 'float'),\n",
       " ('atemp', 'float'),\n",
       " ('hum', 'float'),\n",
       " ('windspeed', 'float'),\n",
       " ('casual', 'int'),\n",
       " ('registered', 'int'),\n",
       " ('cnt', 'int')]"
      ]
     },
     "execution_count": 213,
     "metadata": {},
     "output_type": "execute_result"
    }
   ],
   "source": [
    "# data type\n",
    "df.printSchema()\n",
    "df.dtypes"
   ]
  },
  {
   "cell_type": "markdown",
   "metadata": {},
   "source": [
    "### Data Operation\n",
    "    df.col / df['col'] / df.select('col'): subset\n",
    "    df.withColumn('col', fun): add column\n",
    "    df.withColumnRenamed('col', 'new_col'): rename col\n",
    "    df.filter(condition): filter rows\n",
    "    .collect()\n",
    "    df.groupBy('col'): group data by values in 'col'\n",
    "    df.groupBy('col1').fun('col2'): group by 'col1' then do fun on 'col2'\n",
    "    df.agg({'col':\"fun\"}): do fun on values in 'col' (not grouping)\n",
    "    df.ordrBy('col'): sort data by values in 'col' (same as df.sort())\n",
    "    df.sort('col', ascending=False) or df.sort(df.col.desc())"
   ]
  },
  {
   "cell_type": "code",
   "execution_count": 73,
   "metadata": {
    "collapsed": true
   },
   "outputs": [
    {
     "name": "stdout",
     "output_type": "stream",
     "text": [
      "+-------+-----------------+\n",
      "|summary|          instant|\n",
      "+-------+-----------------+\n",
      "|  count|            13411|\n",
      "|   mean|8742.028782342853|\n",
      "| stddev|5057.902777166932|\n",
      "|    min|                2|\n",
      "|    max|            17379|\n",
      "+-------+-----------------+\n",
      "\n",
      "+-------+-------------------+-------------------+\n",
      "|summary|               temp|              atemp|\n",
      "+-------+-------------------+-------------------+\n",
      "|  count|              16879|              16655|\n",
      "|   mean|0.49789324210464186|0.47718728662814347|\n",
      "| stddev| 0.1919856962831364|0.17226178912704154|\n",
      "|    min|               0.02|                0.0|\n",
      "|    max|                1.0|                1.0|\n",
      "+-------+-------------------+-------------------+\n",
      "\n",
      "+-------+-------------------+-------------------+\n",
      "|summary|                hum|          windspeed|\n",
      "+-------+-------------------+-------------------+\n",
      "|  count|              16664|              17379|\n",
      "|   mean| 0.6233845399098004|0.19009760539747023|\n",
      "| stddev|0.19323537228920643|0.12234022926320468|\n",
      "|    min|                0.0|                0.0|\n",
      "|    max|                1.0|             0.8507|\n",
      "+-------+-------------------+-------------------+\n",
      "\n"
     ]
    }
   ],
   "source": [
    "# Dataframe subset\n",
    "df.select('instant').describe().show()\n",
    "df['temp', 'atemp'].describe().show()\n",
    "df.describe(['hum', 'windspeed']).show()"
   ]
  },
  {
   "cell_type": "code",
   "execution_count": 55,
   "metadata": {
    "collapsed": true
   },
   "outputs": [
    {
     "name": "stdout",
     "output_type": "stream",
     "text": [
      "+-------+--------+------+----+----+---+-------+-------+----------+----------+----+------+----+---------+------+----------+---+\n",
      "|instant|  dteday|season|year|mnth| hr|holiday|weekday|workingday|weathersit|temp| atemp| hum|windspeed|casual|registered|cnt|\n",
      "+-------+--------+------+----+----+---+-------+-------+----------+----------+----+------+----+---------+------+----------+---+\n",
      "|   null|2011/1/1|     1|   0|   1|  0|      0|      6|         0|         1|0.24|0.2879|0.81|      0.0|     3|        13| 16|\n",
      "|      2|2011/1/1|     1|   0|   1|  1|      0|      6|         0|         1|0.22|  null| 0.8|      0.0|     8|        32| 40|\n",
      "|      3|2011/1/1|     1|   0|   1|  2|      0|      6|         0|         1|0.22|0.2727|null|      0.0|     5|        27| 32|\n",
      "|      4|2011/1/1|     1|   0|   1|  3|      0|      6|         0|         1|0.24|0.2879|0.75|      0.0|     3|        10| 13|\n",
      "|      5|2011/1/1|     1|   0|   1|  4|      0|      6|         0|         1|0.24|0.2879|0.75|      0.0|     0|         1|  1|\n",
      "+-------+--------+------+----+----+---+-------+-------+----------+----------+----+------+----+---------+------+----------+---+\n",
      "only showing top 5 rows\n",
      "\n",
      "+-------+--------+------+---+----+---+-------+-------+----------+----------+----+------+----+---------+------+----------+---+\n",
      "|instant|  dteday|season| yr|mnth| hr|holiday|weekday|workingday|weathersit|temp| atemp| hum|windspeed|casual|registered|cnt|\n",
      "+-------+--------+------+---+----+---+-------+-------+----------+----------+----+------+----+---------+------+----------+---+\n",
      "|   null|2011/1/1|     1|  0|   1|  0|      0|      6|         0|         1|0.24|0.2879|0.81|      0.0|     3|        13| 16|\n",
      "|      2|2011/1/1|     1|  0|   1|  1|      0|      6|         0|         1|0.22|  null| 0.8|      0.0|     8|        32| 40|\n",
      "|      3|2011/1/1|     1|  0|   1|  2|      0|      6|         0|         1|0.22|0.2727|null|      0.0|     5|        27| 32|\n",
      "|      4|2011/1/1|     1|  0|   1|  3|      0|      6|         0|         1|0.24|0.2879|0.75|      0.0|     3|        10| 13|\n",
      "|      5|2011/1/1|     1|  0|   1|  4|      0|      6|         0|         1|0.24|0.2879|0.75|      0.0|     0|         1|  1|\n",
      "+-------+--------+------+---+----+---+-------+-------+----------+----------+----+------+----+---------+------+----------+---+\n",
      "only showing top 5 rows\n",
      "\n"
     ]
    }
   ],
   "source": [
    "# Col Rename\n",
    "datadf.withColumnRenamed('yr', 'year').show(2)"
   ]
  },
  {
   "cell_type": "code",
   "execution_count": 187,
   "metadata": {},
   "outputs": [
    {
     "data": {
      "text/plain": [
       "DataFrame[cnt: int, yr: int]"
      ]
     },
     "execution_count": 187,
     "metadata": {},
     "output_type": "execute_result"
    }
   ],
   "source": [
    "# data frame subsetting\n",
    "df.select('cnt', 'yr')\n",
    "df.select(df.cnt, df.yr)\n",
    "df['cnt', 'yr']"
   ]
  },
  {
   "cell_type": "code",
   "execution_count": 115,
   "metadata": {
    "collapsed": true
   },
   "outputs": [
    {
     "name": "stdout",
     "output_type": "stream",
     "text": [
      "+---+\n",
      "|cnt|\n",
      "+---+\n",
      "| 16|\n",
      "| 40|\n",
      "| 32|\n",
      "+---+\n",
      "only showing top 3 rows\n",
      "\n"
     ]
    }
   ],
   "source": [
    "# introduce SQL\n",
    "df.createOrReplaceTempView('bikesharing')\n",
    "results = spark.sql('SELECT cnt FROM bikesharing')\n",
    "results.show(3)"
   ]
  },
  {
   "cell_type": "code",
   "execution_count": 180,
   "metadata": {},
   "outputs": [
    {
     "name": "stdout",
     "output_type": "stream",
     "text": [
      "16879\n",
      "16879\n"
     ]
    }
   ],
   "source": [
    "# dataframe methods\n",
    "print(df.filter(df.temp > 0).count())\n",
    "print(df.na.drop(subset='temp').count())"
   ]
  },
  {
   "cell_type": "code",
   "execution_count": 208,
   "metadata": {
    "scrolled": true
   },
   "outputs": [
    {
     "data": {
      "text/plain": [
       "{'cnt': 16, 'yr': 0}"
      ]
     },
     "execution_count": 208,
     "metadata": {},
     "output_type": "execute_result"
    }
   ],
   "source": [
    "# .collect() returns a list (with [])\n",
    "# .asDict() turn to a Dict (with {})\n",
    "df.select('cnt', 'yr').collect()[0].asDict()"
   ]
  },
  {
   "cell_type": "code",
   "execution_count": 280,
   "metadata": {},
   "outputs": [
    {
     "name": "stdout",
     "output_type": "stream",
     "text": [
      "+---+------------------+\n",
      "| yr|          avg(cnt)|\n",
      "+---+------------------+\n",
      "|  1| 234.6663613464621|\n",
      "|  0|143.79444765760556|\n",
      "+---+------------------+\n",
      "\n",
      "+---+--------------------------+\n",
      "| yr|format_number(avg(cnt), 2)|\n",
      "+---+--------------------------+\n",
      "|  1|                    234.67|\n",
      "|  0|                    143.79|\n",
      "+---+--------------------------+\n",
      "\n"
     ]
    }
   ],
   "source": [
    "# group data by year and return mean of count\n",
    "df.groupBy('yr').mean('cnt').show()\n",
    "# group data by year and return mean of each column, format the number\n",
    "df.groupBy('yr').mean().select('yr', format_number('avg(cnt)',2)).show()"
   ]
  },
  {
   "cell_type": "code",
   "execution_count": 281,
   "metadata": {},
   "outputs": [
    {
     "name": "stdout",
     "output_type": "stream",
     "text": [
      "+------------------+\n",
      "|          avg(cnt)|\n",
      "+------------------+\n",
      "|189.46308763450142|\n",
      "+------------------+\n",
      "\n"
     ]
    }
   ],
   "source": [
    "# not grouping, on entire data\n",
    "df.agg({'cnt':'mean'}).show()"
   ]
  },
  {
   "cell_type": "code",
   "execution_count": 294,
   "metadata": {
    "collapsed": true
   },
   "outputs": [
    {
     "name": "stdout",
     "output_type": "stream",
     "text": [
      "+------+------------------+\n",
      "|season|  average of count|\n",
      "+------+------------------+\n",
      "|     1|111.11456859971712|\n",
      "|     2|208.34406894987526|\n",
      "|     3|236.01623665480426|\n",
      "|     4|198.86885633270322|\n",
      "+------+------------------+\n",
      "\n",
      "+------+------------------+\n",
      "|season|  average of count|\n",
      "+------+------------------+\n",
      "|     4|198.86885633270322|\n",
      "|     3|236.01623665480426|\n",
      "|     2|208.34406894987526|\n",
      "|     1|111.11456859971712|\n",
      "+------+------------------+\n",
      "\n",
      "+------+------------------+\n",
      "|season|  average of count|\n",
      "+------+------------------+\n",
      "|     4|198.86885633270322|\n",
      "|     3|236.01623665480426|\n",
      "|     2|208.34406894987526|\n",
      "|     1|111.11456859971712|\n",
      "+------+------------------+\n",
      "\n"
     ]
    }
   ],
   "source": [
    "# group data by season, format number for easy check\n",
    "df_season = df.groupBy('season').mean('cnt').withColumnRenamed(\n",
    "    'avg(cnt)', 'average of count')\n",
    "# ascending default\n",
    "df_season.sort('season').show()\n",
    "# descending\n",
    "df_season.sort('season', ascending=False).show()\n",
    "df_season.orderBy(df_season.season.desc()).show()"
   ]
  },
  {
   "cell_type": "markdown",
   "metadata": {},
   "source": [
    "### Data Cleaning\n",
    "    df.drop(subset): drop columns\n",
    "    df.na.drop(thresh, how, subset): drop rows with na\n",
    "    df.na.fill('value', subset): better to fill missing values with the mean"
   ]
  },
  {
   "cell_type": "code",
   "execution_count": 158,
   "metadata": {
    "collapsed": true
   },
   "outputs": [
    {
     "name": "stdout",
     "output_type": "stream",
     "text": [
      "root\n",
      " |-- dteday: string (nullable = true)\n",
      " |-- season: integer (nullable = true)\n",
      " |-- yr: integer (nullable = true)\n",
      " |-- mnth: integer (nullable = true)\n",
      " |-- hr: integer (nullable = true)\n",
      " |-- holiday: integer (nullable = true)\n",
      " |-- weekday: integer (nullable = true)\n",
      " |-- workingday: integer (nullable = true)\n",
      " |-- weathersit: integer (nullable = true)\n",
      " |-- temp: double (nullable = true)\n",
      " |-- atemp: double (nullable = true)\n",
      " |-- hum: double (nullable = true)\n",
      " |-- windspeed: double (nullable = true)\n",
      " |-- casual: integer (nullable = true)\n",
      " |-- registered: integer (nullable = true)\n",
      " |-- cnt: integer (nullable = true)\n",
      "\n"
     ]
    }
   ],
   "source": [
    "df.drop('instant').printSchema()"
   ]
  },
  {
   "cell_type": "code",
   "execution_count": 160,
   "metadata": {},
   "outputs": [
    {
     "name": "stdout",
     "output_type": "stream",
     "text": [
      "17379\n",
      "12069\n",
      "13411\n"
     ]
    }
   ],
   "source": [
    "print(df.count())\n",
    "# dorp any rows with missing data\n",
    "print(df.na.drop().count())\n",
    "# drop a row if a value from a particular row is missing\n",
    "print(df.na.drop(subset='instant').count())"
   ]
  },
  {
   "cell_type": "code",
   "execution_count": 131,
   "metadata": {},
   "outputs": [],
   "source": [
    "from pyspark.sql.functions import mean\n",
    "mean_temp = df.select(mean(df['temp'])).collect()\n",
    "mean_atemp = df.select(mean(df['atemp'])).collect()\n",
    "mean_hum = df.select(mean(df['hum'])).collect()\n",
    "mean_windspeed = df.select(mean(df['windspeed'])).collect()"
   ]
  },
  {
   "cell_type": "code",
   "execution_count": 134,
   "metadata": {},
   "outputs": [
    {
     "data": {
      "text/plain": [
       "0.49789324012086394"
      ]
     },
     "execution_count": 134,
     "metadata": {},
     "output_type": "execute_result"
    }
   ],
   "source": [
    "# it's a list\n",
    "type(mean_temp)\n",
    "mean_temp[0][0]\n",
    "# get the value\n",
    "mean_temp_value = mean_temp[0][0]"
   ]
  },
  {
   "cell_type": "code",
   "execution_count": 188,
   "metadata": {},
   "outputs": [],
   "source": [
    "# do it again\n",
    "from pyspark.sql.functions import mean\n",
    "mean_temp = df.select(mean(df.temp)).collect()[0][0]\n",
    "mean_atemp = df.select(mean(df.atemp)).collect()[0][0]\n",
    "mean_hum = df.select(mean(df.hum)).collect()[0][0]\n",
    "mean_windspeed = df.select(mean(df.windspeed)).collect()[0][0]"
   ]
  },
  {
   "cell_type": "code",
   "execution_count": 189,
   "metadata": {},
   "outputs": [
    {
     "name": "stdout",
     "output_type": "stream",
     "text": [
      "+-------+-------------------+\n",
      "|summary|               temp|\n",
      "+-------+-------------------+\n",
      "|  count|              17379|\n",
      "|   mean|0.49789324012086117|\n",
      "| stddev|0.18920363048478592|\n",
      "|    min|               0.02|\n",
      "|    max|                1.0|\n",
      "+-------+-------------------+\n",
      "\n"
     ]
    }
   ],
   "source": [
    "df.na.fill(mean_temp, subset='temp').describe('temp').show()"
   ]
  },
  {
   "cell_type": "code",
   "execution_count": 162,
   "metadata": {},
   "outputs": [
    {
     "name": "stdout",
     "output_type": "stream",
     "text": [
      "+-------+-------------------+-------------------+-------------------+-------------------+\n",
      "|summary|               temp|              atemp|                hum|          windspeed|\n",
      "+-------+-------------------+-------------------+-------------------+-------------------+\n",
      "|  count|              17379|              17379|              17379|              17379|\n",
      "|   mean|0.49789324012086117| 0.4771872830981634|   0.62338454152664| 0.1900976063064631|\n",
      "| stddev|0.18920363048478592|0.16863523924975896|0.18921838489870607|0.12234022857279034|\n",
      "|    min|               0.02|                0.0|                0.0|                0.0|\n",
      "|    max|                1.0|                1.0|                1.0|             0.8507|\n",
      "+-------+-------------------+-------------------+-------------------+-------------------+\n",
      "\n"
     ]
    }
   ],
   "source": [
    "# we need fill 4 fields, put a dict as value\n",
    "mean_filled = {'temp': mean_temp, 'atemp': mean_atemp,\n",
    "               'hum': mean_hum, 'windspeed': mean_windspeed}\n",
    "df.na.fill(mean_filled).describe(['temp', 'atemp', 'hum', 'windspeed']).show()"
   ]
  }
 ],
 "metadata": {
  "kernelspec": {
   "display_name": "Python 3",
   "language": "python",
   "name": "python3"
  },
  "language_info": {
   "codemirror_mode": {
    "name": "ipython",
    "version": 3
   },
   "file_extension": ".py",
   "mimetype": "text/x-python",
   "name": "python",
   "nbconvert_exporter": "python",
   "pygments_lexer": "ipython3",
   "version": "3.5.2"
  }
 },
 "nbformat": 4,
 "nbformat_minor": 2
}
